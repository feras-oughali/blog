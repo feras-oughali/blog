{
 "cells": [
  {
   "cell_type": "markdown",
   "metadata": {
    "id": "c71poUbytnr1"
   },
   "source": [
    "# \"MixUp: concepts, usage, and implementations\"\n",
    "> \"A dive into the implementation\"\n",
    "\n",
    "- toc: false\n",
    "- badges: false\n",
    "- comments: true\n",
    "- categories: [fastai, mixup]\n",
    "- hide: false"
   ]
  },
  {
   "cell_type": "markdown",
   "metadata": {
    "id": "gON8n0rTusyA"
   },
   "source": [
    "In this post, we get to know the benefits of using mixup and how to implement it in practice. We dive into the official implementation of the MixUp paper and compare it to the implementation of the famous [fastai](https://github.com/fastai/fastai) library. \n",
    "\n",
    "Mixup was introduced in this [paper](https://arxiv.org/abs/1710.09412). Mixup is a simple technique for data augmentation, yet it has several advantages. As stated by the authors, mixup does: \n",
    "* regularize neural networks to favor simple linear behavior among training examples. \n",
    "* improve the generalization of state-of-the-art neural network architectures. \n",
    "* reduce the memorization of corrupt labels.\n",
    "* increase the robustness to adversarial examples.\n",
    "* stabilize the training of generative adversarial networks (GANs).\n",
    "\n",
    "The contributions from paper can be summarized by the following snapshot. \n",
    "\n",
    "![](my_icons/mixup-paper.png \"snapshot from Mixup paper\")\n",
    "*snapshot from Mixup paper*\n",
    "\n",
    "## How can we implement mixup in practice?\n",
    "The [fastbook](https://github.com/fastai/fastbook/blob/master/07_sizing_and_tta.ipynb), by Jeremy Howard and Sylvain Gugger, does a great job in simplifying the concept. Essentially, mixup can be implemented with 4 simple steps; for each image:\n",
    "1.\tSelect another image from the dataset at random.\n",
    "2.\tPick a random weight.\n",
    "3.\tTake a weighted sum (i.e., a linear combination) of the selected image with the original image. This will form the independent variable.\n",
    "4.\tTake a weighted sum (using the same weight from step 2) of the labels of those two images. This will produce the dependent variable.\n",
    "\n",
    "There is one additional requirement that the labels have to be one-hot encoded.\n",
    "\n",
    "\n",
    "This sound really great!\n",
    "\n",
    "### Official implementation \n",
    "\n",
    "Let's check the corresponding [code](https://github.com/facebookresearch/mixup-cifar10/blob/master/train.py) from the official implementation of the paper. \n",
    "\n",
    "The random weight is sampled from Beta distribution\n",
    "\n",
    "`lam = np.random.beta(alpha, alpha)`\n",
    "\n",
    "In practice, the random images are selected from within a mini batch rather than the whole dataset for convenience. \n",
    "\n",
    "`index = torch.randperm(batch_size)`\n",
    "\n",
    "The inputs are then mixep using a weighted sum with a random permutation of those same inputs\n",
    "\n",
    "`mixed_x = lam * x + (1 - lam) * x[index, :]`\n",
    "\n",
    "So far so good. \n",
    "\n",
    "However, when we come to the point of mixing the labels we notice a deviation from the description above.\n",
    "\n",
    "`y_a, y_b = y, y[index]`\n",
    "\n",
    "we notice that labels are not being mixed when preparing the data. In addition, labels are not one-hot encoded in this particular case. We can confirm this by examining the loss function being used. \n",
    "\n",
    "```\n",
    "criterion = nn.CrossEntropyLoss()\n",
    "def mixup_criterion(criterion, pred, y_a, y_b, lam):\n",
    "    return lam * criterion(pred, y_a) + (1 - lam) * criterion(pred, y_b)\n",
    "```\n",
    "`CrossEntropyLoss` as defined in [Pytorch](https://pytorch.org/docs/stable/generated/torch.nn.CrossEntropyLoss.html) does not accept one-hot encoded labels. We also notice a weighted sum of losses with respect to the original labels `y_a` and the permutation labels `y_b`, rather than the loss between predictions and a weighted some of labels. \n",
    "\n",
    "what is wrong here?\n",
    "\n",
    "Actually, there is nothing wrong! It turns out that this implementation is equivalent to the previous description. It is just easier to exploit this fact and use the existing labels and loss function (i.e., there is no need to convert labels to be one-hot encoded or change the loss function to accept such labels).\n",
    "\n",
    "We will confirm this fact with a simplistic example. \n",
    "\n",
    "Let `pred` be a batch of 4 predictions corresponding to mixed inputs `mixed_x`, `y_a` a batch of labels associated with the original inputs, and `y_b` a batch of labels associated with permuted inputs. \n",
    "\n",
    "\n"
   ]
  },
  {
   "cell_type": "code",
   "execution_count": null,
   "metadata": {
    "id": "S9Ws2byITK4B"
   },
   "outputs": [],
   "source": [
    "from fastai.basics import *"
   ]
  },
  {
   "cell_type": "code",
   "execution_count": null,
   "metadata": {
    "colab": {
     "base_uri": "https://localhost:8080/"
    },
    "id": "le2kndQBY90I",
    "outputId": "630e619d-dc83-482f-a01a-7b3967887c8a"
   },
   "outputs": [
    {
     "data": {
      "text/plain": [
       "tensor([[0.8000, 0.2000],\n",
       "        [0.7000, 0.3000],\n",
       "        [0.4000, 0.6000],\n",
       "        [0.6000, 0.4000]])"
      ]
     },
     "execution_count": 3,
     "metadata": {
      "tags": []
     },
     "output_type": "execute_result"
    }
   ],
   "source": [
    "#\n",
    "# predictions of a small batch of size 4\n",
    "pred = tensor([[0.8, 0.2], [0.7,0.3], [0.4,0.6], [0.6, 0.4]])\n",
    "pred"
   ]
  },
  {
   "cell_type": "code",
   "execution_count": null,
   "metadata": {
    "colab": {
     "base_uri": "https://localhost:8080/"
    },
    "id": "O35qJn4gZABV",
    "outputId": "0a6c2713-c912-4989-dc6f-f7d9822c9c35"
   },
   "outputs": [
    {
     "data": {
      "text/plain": [
       "tensor([0, 0, 1, 1])"
      ]
     },
     "execution_count": 24,
     "metadata": {
      "tags": []
     },
     "output_type": "execute_result"
    }
   ],
   "source": [
    "#\n",
    "# original labels\n",
    "y = tensor([0,0,1,1])\n",
    "y"
   ]
  },
  {
   "cell_type": "code",
   "execution_count": null,
   "metadata": {
    "colab": {
     "base_uri": "https://localhost:8080/"
    },
    "id": "F0-pVeRJZGb-",
    "outputId": "a13354a2-df44-48de-f0ea-38fbd7235c8d"
   },
   "outputs": [
    {
     "data": {
      "text/plain": [
       "tensor([0, 3, 2, 1])"
      ]
     },
     "execution_count": 56,
     "metadata": {
      "tags": []
     },
     "output_type": "execute_result"
    }
   ],
   "source": [
    "# random permutation a batch\n",
    "batch_size = 4\n",
    "index = torch.randperm(batch_size)\n",
    "index"
   ]
  },
  {
   "cell_type": "code",
   "execution_count": null,
   "metadata": {
    "colab": {
     "base_uri": "https://localhost:8080/"
    },
    "id": "0apjyMgqZS4A",
    "outputId": "56b538f0-449c-43f6-fc66-ec1b2675512c"
   },
   "outputs": [
    {
     "data": {
      "text/plain": [
       "(tensor([0, 0, 1, 1]), tensor([0, 1, 1, 0]))"
      ]
     },
     "execution_count": 57,
     "metadata": {
      "tags": []
     },
     "output_type": "execute_result"
    }
   ],
   "source": [
    "# original and permuted labels \n",
    "y_a, y_b = yb, yb[index]\n",
    "y_a, y_b"
   ]
  },
  {
   "cell_type": "code",
   "execution_count": null,
   "metadata": {
    "colab": {
     "base_uri": "https://localhost:8080/"
    },
    "id": "9-c9Y67bZS1H",
    "outputId": "730ebb87-d9ee-47e6-d400-704f02521970"
   },
   "outputs": [
    {
     "data": {
      "text/plain": [
       "tensor(0.3000)"
      ]
     },
     "execution_count": 58,
     "metadata": {
      "tags": []
     },
     "output_type": "execute_result"
    }
   ],
   "source": [
    "# weight\n",
    "lam = tensor(0.3)\n",
    "lam"
   ]
  },
  {
   "cell_type": "code",
   "execution_count": null,
   "metadata": {
    "id": "-CuRSShQZSyg"
   },
   "outputs": [],
   "source": [
    "# loss as computed by the official implementation \n",
    "loss = nn.CrossEntropyLoss(reduction=\"none\")\n",
    "def mixup_loss(loss, pred, y_a, y_b, lam):\n",
    "  return lam * loss(pred, y_a) + (1 - lam) * loss(pred, y_b)"
   ]
  },
  {
   "cell_type": "code",
   "execution_count": null,
   "metadata": {
    "colab": {
     "base_uri": "https://localhost:8080/"
    },
    "id": "DUu8KKICZ8wM",
    "outputId": "fc9149f2-d704-4f81-bc38-f43313c6e265"
   },
   "outputs": [
    {
     "data": {
      "text/plain": [
       "tensor([0.4375, 0.7930, 0.5981, 0.6581])"
      ]
     },
     "execution_count": 60,
     "metadata": {
      "tags": []
     },
     "output_type": "execute_result"
    }
   ],
   "source": [
    "mixup_loss(loss, pred, y_a, y_b, lam)"
   ]
  },
  {
   "cell_type": "markdown",
   "metadata": {
    "id": "bqELumSjjGFq"
   },
   "source": [
    "To this point, we obtained the loss as computed by the official implementation. We set the *reduction* to `\"none\"` in order to show all the components of the loss. However, the mean of those values should be computed in practice. \n",
    "\n",
    "In the following section, we will implement the loss as described in fastbook and in the paper. "
   ]
  },
  {
   "cell_type": "code",
   "execution_count": null,
   "metadata": {
    "colab": {
     "base_uri": "https://localhost:8080/"
    },
    "id": "d1uGQBPfbPqd",
    "outputId": "d6ed17bd-b29a-4002-ecc3-ba0c7186c94a"
   },
   "outputs": [
    {
     "data": {
      "text/plain": [
       "tensor([[1, 0],\n",
       "        [1, 0],\n",
       "        [0, 1],\n",
       "        [0, 1]])"
      ]
     },
     "execution_count": 61,
     "metadata": {
      "tags": []
     },
     "output_type": "execute_result"
    }
   ],
   "source": [
    "# convert labels to one-hot encoding\n",
    "one_hot_y_a = tensor([[1, 0], [1, 0], [0, 1], [0, 1]])\n",
    "one_hot_y_a"
   ]
  },
  {
   "cell_type": "code",
   "execution_count": null,
   "metadata": {
    "colab": {
     "base_uri": "https://localhost:8080/"
    },
    "id": "DdUL8E9TbPny",
    "outputId": "5d683b91-6505-4954-8525-f9dec5b5b462"
   },
   "outputs": [
    {
     "data": {
      "text/plain": [
       "tensor([[1, 0],\n",
       "        [0, 1],\n",
       "        [0, 1],\n",
       "        [1, 0]])"
      ]
     },
     "execution_count": 62,
     "metadata": {
      "tags": []
     },
     "output_type": "execute_result"
    }
   ],
   "source": [
    "# convert labels to one-hot encoding\n",
    "one_hot_y_b = tensor([[1, 0], [0, 1], [0, 1],  [1, 0]])\n",
    "one_hot_y_b"
   ]
  },
  {
   "cell_type": "code",
   "execution_count": null,
   "metadata": {
    "colab": {
     "base_uri": "https://localhost:8080/"
    },
    "id": "rPx19eaaZ8s1",
    "outputId": "a0839b7d-6d0a-4f5f-b066-7761c2d25d33"
   },
   "outputs": [
    {
     "data": {
      "text/plain": [
       "tensor([[1.0000, 0.0000],\n",
       "        [0.3000, 0.7000],\n",
       "        [0.0000, 1.0000],\n",
       "        [0.7000, 0.3000]])"
      ]
     },
     "execution_count": 70,
     "metadata": {
      "tags": []
     },
     "output_type": "execute_result"
    }
   ],
   "source": [
    "# compute mixed lables\n",
    "mixed_y = lam * one_hot_y_a + (1 - lam) * one_hot_y_b\n",
    "mixed_y"
   ]
  },
  {
   "cell_type": "markdown",
   "metadata": {
    "id": "MY6OLvE3kRaZ"
   },
   "source": [
    "We notice here that the first and the third labels did not change when compared with the original labels. This is because we are mixing with the same labels in these cases. \n",
    "\n",
    "Next, we define a version of the cross entropy loss that accepts one-hot encoded labels (or a weighted sum of one-hot encoded labels to be precise; those are also called soft labels as opposed to hard labels i.e., zero or one)."
   ]
  },
  {
   "cell_type": "code",
   "execution_count": null,
   "metadata": {
    "id": "6tpp5blYZSvs"
   },
   "outputs": [],
   "source": [
    "# https://discuss.pytorch.org/t/cross-entropy-with-one-hot-targets/13580/5\n",
    "def one_hot_CELoss(pred, target):\n",
    "  logsoftmax = nn.LogSoftmax()\n",
    "  return torch.sum(-target * logsoftmax(pred), dim=1)"
   ]
  },
  {
   "cell_type": "code",
   "execution_count": null,
   "metadata": {
    "colab": {
     "base_uri": "https://localhost:8080/"
    },
    "id": "Q_lNb7ERbceB",
    "outputId": "69f3a29c-f935-4efd-d525-7b93cbd9d4f2"
   },
   "outputs": [
    {
     "name": "stderr",
     "output_type": "stream",
     "text": [
      "/usr/local/lib/python3.7/dist-packages/ipykernel_launcher.py:3: UserWarning: Implicit dimension choice for log_softmax has been deprecated. Change the call to include dim=X as an argument.\n",
      "  This is separate from the ipykernel package so we can avoid doing imports until\n"
     ]
    },
    {
     "data": {
      "text/plain": [
       "tensor([0.4375, 0.7930, 0.5981, 0.6581])"
      ]
     },
     "execution_count": 72,
     "metadata": {
      "tags": []
     },
     "output_type": "execute_result"
    }
   ],
   "source": [
    "one_hot_CELoss(pred, mixed_y)"
   ]
  },
  {
   "cell_type": "code",
   "execution_count": null,
   "metadata": {
    "id": "MKNx-ZHacG4P"
   },
   "outputs": [],
   "source": [
    "test_close(one_hot_CELoss(pred, mixed_y) , mixup_loss(loss, pred, y_a, y_b, lam))"
   ]
  },
  {
   "cell_type": "markdown",
   "metadata": {
    "id": "Q0Xer-vemGIl"
   },
   "source": [
    "Hooray! The results are matching. "
   ]
  },
  {
   "cell_type": "markdown",
   "metadata": {
    "id": "OPE-d4M2edJV"
   },
   "source": [
    "### Fastai Implementation\n",
    "Fastai follows the official implementation of drawing the random images from the mini batch. The [code](https://github.com/fastai/fastai/blob/master/fastai/callback/mixup.py) looks a bit different as fastai uses some functionalities of the `L` class from [fastcore](https://fastcore.fast.ai/). \n",
    "```\n",
    "shuffle = torch.randperm(self.y.size(0)).to(self.x.device)\n",
    "xb1,self.yb1 = tuple(L(self.xb).itemgot(shuffle)),tuple(L(self.yb).itemgot(shuffle))\n",
    "```\n",
    "Similarly, fastai's implementation mixes the inputs and takes a mix of losses instead of mixing one-hot encoded labels. \n",
    "\n",
    "`self.learn.xb = tuple(L(xb1,self.xb).map_zip(torch.lerp,weight=unsqueeze(self.lam, n=nx_dims-1)))`\n",
    "\n",
    "`loss = torch.lerp(lf(pred,*self.yb1), lf(pred,*yb), self.lam)`\n",
    "\n",
    "But wait a minute! \n",
    "\n",
    "Looks like there is no weighted sum in here. We notice the use of `torch.lerp` instead. If you look up the [documentation](https://pytorch.org/docs/stable/generated/torch.lerp.html) of `torch.lerp`, you will find out the it does something like this: \n",
    "\n",
    "```torch.lerp(input, end, weight, *, out=None)```\n",
    "\n",
    "$out_{i} = input_{i} + weight_{i} \\times (end_{i}-input_{i})$\n",
    "\n",
    "with simple refactoring we can see that: \n",
    "\n",
    "$out_{i} = input_{i} + weight_{i} \\times end_{i} - weight_{i} \\times input_{i}$\n",
    "\n",
    "$out_{i} = (1-weight_{i}) \\times input_{i} + weight_{i} \\times end_{i}$\n",
    "\n",
    "which is the weighted sum of the two tensors `input` and `end`. \n",
    "\n",
    "But why not simply use a clear weighted sum instead of `torch.lerp`?!\n",
    "\n",
    "The answer is performance! Pytorch has very optimized low level implementations for certain operations which is usually much faster. Let's confirm this with a little experiment. \n",
    "\n",
    "\n"
   ]
  },
  {
   "cell_type": "code",
   "execution_count": null,
   "metadata": {
    "id": "lCaSlUbKii4d"
   },
   "outputs": [],
   "source": [
    "# random input tensors\n",
    "a = torch.randn((64,400,400))\n",
    "b = torch.randn((64,400,400))"
   ]
  },
  {
   "cell_type": "code",
   "execution_count": null,
   "metadata": {
    "colab": {
     "base_uri": "https://localhost:8080/"
    },
    "id": "F92PLHFQii4e",
    "outputId": "7c41ded6-1841-4098-fe3c-edf427d9f593"
   },
   "outputs": [
    {
     "name": "stdout",
     "output_type": "stream",
     "text": [
      "100 loops, best of 5: 32.6 ms per loop\n"
     ]
    }
   ],
   "source": [
    "# simple weighted sum implementation\n",
    "%timeit -n100 ((1-lam)*a + lam*b)"
   ]
  },
  {
   "cell_type": "code",
   "execution_count": null,
   "metadata": {
    "colab": {
     "base_uri": "https://localhost:8080/"
    },
    "id": "Wetrx-51ii4f",
    "outputId": "c3361111-6880-405c-bbc7-140f9c2b3636"
   },
   "outputs": [
    {
     "name": "stdout",
     "output_type": "stream",
     "text": [
      "100 loops, best of 5: 12.7 ms per loop\n"
     ]
    }
   ],
   "source": [
    "# torch.lerp implementation of the weighted sum\n",
    "%timeit -n100 torch.lerp(a,b,lam)"
   ]
  },
  {
   "cell_type": "code",
   "execution_count": null,
   "metadata": {
    "colab": {
     "base_uri": "https://localhost:8080/"
    },
    "id": "q26mRuCzii4g",
    "outputId": "617c19ee-3808-408a-8722-0649030e6d1b"
   },
   "outputs": [
    {
     "data": {
      "text/plain": [
       "2.566929133858268"
      ]
     },
     "execution_count": 100,
     "metadata": {
      "tags": []
     },
     "output_type": "execute_result"
    }
   ],
   "source": [
    "32.6/12.7"
   ]
  },
  {
   "cell_type": "markdown",
   "metadata": {
    "id": "Vf98pfoPinE8"
   },
   "source": [
    "we can see over 2.5X speed-up boost when using `torch.lerp`. And since we are talking about ***fast***ai, it's better be using `torch.lerp`. "
   ]
  }
 ],
 "metadata": {
  "colab": {
   "collapsed_sections": [],
   "name": "blog_mixup.ipynb",
   "provenance": []
  },
  "kernelspec": {
   "display_name": "Python 3",
   "language": "python",
   "name": "python3"
  },
  "language_info": {
   "codemirror_mode": {
    "name": "ipython",
    "version": 3
   },
   "file_extension": ".py",
   "mimetype": "text/x-python",
   "name": "python",
   "nbconvert_exporter": "python",
   "pygments_lexer": "ipython3",
   "version": "3.8.5"
  }
 },
 "nbformat": 4,
 "nbformat_minor": 1
}

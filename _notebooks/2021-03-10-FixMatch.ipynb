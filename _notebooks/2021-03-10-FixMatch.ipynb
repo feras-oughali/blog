{
 "cells": [
  {
   "cell_type": "markdown",
   "id": "insured-covering",
   "metadata": {},
   "source": [
    "# FixMatch for Semi-Supervised Learning\n",
    "> pytorch implementation of FixMatch paper as a fastai callback\n",
    "\n",
    "- toc: false\n",
    "- badges: false\n",
    "- comments: false\n",
    "- categories: [semi-supervised]"
   ]
  },
  {
   "cell_type": "markdown",
   "id": "expected-timothy",
   "metadata": {},
   "source": [
    "This work is ported from FixMatch pytorch implementation [repo](https://github.com/kekmodel/FixMatch-pytorch) by Jungdae Kim. For more details about FixMatch, have a look at this excellent blog post [The Illustrated FixMatch for Semi-Supervised Learning](https://amitness.com/2020/03/fixmatch-semi-supervised/). FixMatch paper can be found [here](https://arxiv.org/abs/2001.07685)."
   ]
  },
  {
   "cell_type": "markdown",
   "id": "final-adobe",
   "metadata": {},
   "source": [
    "Below is a snapshot from the paper that shows how to handle unlabeled images.  \n",
    "\n",
    "![fixmatchpaper.png]({{ site.baseurl }}/images/fixmatchpaper.png)\n"
   ]
  },
  {
   "cell_type": "code",
   "execution_count": null,
   "id": "black-utility",
   "metadata": {},
   "outputs": [],
   "source": [
    "class FixMatchTransform():\n",
    "    def __init__(self, mean, std):\n",
    "        self.weak = transforms.Compose([transforms.RandomHorizontalFlip()])\n",
    "        self.strong = rand_aug\n",
    "        self.normalize = transforms.Compose([transforms.ToTensor(),\n",
    "                                             transforms.Normalize(mean=mean, std=std)])\n",
    "\n",
    "    def __call__(self, x):\n",
    "        weak = self.weak(x)\n",
    "        strong = self.strong(x)\n",
    "        return self.normalize(weak), self.normalize(strong)"
   ]
  }
 ],
 "metadata": {
  "kernelspec": {
   "display_name": "Python 3",
   "language": "python",
   "name": "python3"
  },
  "language_info": {
   "codemirror_mode": {
    "name": "ipython",
    "version": 3
   },
   "file_extension": ".py",
   "mimetype": "text/x-python",
   "name": "python",
   "nbconvert_exporter": "python",
   "pygments_lexer": "ipython3",
   "version": "3.8.5"
  }
 },
 "nbformat": 4,
 "nbformat_minor": 5
}

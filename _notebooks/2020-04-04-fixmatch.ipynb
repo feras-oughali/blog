{
 "cells": [
  {
   "cell_type": "markdown",
   "id": "caroline-working",
   "metadata": {},
   "source": [
    "# FixMatch for Semi-Supervised Learning\n",
    "> call back implementation\n",
    "\n",
    "- toc: false\n",
    "- badges: false\n",
    "- comments: false\n",
    "- categories: [testing]\n",
    "- hide: false"
   ]
  },
  {
   "cell_type": "code",
   "execution_count": 1,
   "id": "accessory-collection",
   "metadata": {},
   "outputs": [],
   "source": [
    "def test():\n",
    "    pass"
   ]
  },
  {
   "cell_type": "markdown",
   "id": "secure-america",
   "metadata": {},
   "source": [
    "![img]({{ site.baseurl }}/images/fixmatchpaper.png)"
   ]
  }
 ],
 "metadata": {
  "kernelspec": {
   "display_name": "Python 3",
   "language": "python",
   "name": "python3"
  },
  "language_info": {
   "codemirror_mode": {
    "name": "ipython",
    "version": 3
   },
   "file_extension": ".py",
   "mimetype": "text/x-python",
   "name": "python",
   "nbconvert_exporter": "python",
   "pygments_lexer": "ipython3",
   "version": "3.8.5"
  }
 },
 "nbformat": 4,
 "nbformat_minor": 5
}
